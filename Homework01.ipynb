{
  "nbformat": 4,
  "nbformat_minor": 0,
  "metadata": {
    "colab": {
      "provenance": [],
      "gpuType": "T4"
    },
    "kernelspec": {
      "name": "python3",
      "display_name": "Python 3"
    },
    "language_info": {
      "name": "python"
    },
    "accelerator": "GPU"
  },
  "cells": [
    {
      "cell_type": "code",
      "execution_count": null,
      "metadata": {
        "colab": {
          "base_uri": "https://localhost:8080/"
        },
        "id": "r7Lw4ViLnCoh",
        "outputId": "a9b2012b-9406-4b41-bb17-514dfe2f6b6d"
      },
      "outputs": [
        {
          "output_type": "stream",
          "name": "stdout",
          "text": [
            "['Warm', 'Warm', 'Hot', 'Warm', 'Cold', ..., 'Cold', 'Hot', 'Cold', 'Cold', 'Cold']\n",
            "Length: 18\n",
            "Categories (4, object): ['Cold' < 'Warm' < 'Hot' < 'Very Hot']\n"
          ]
        }
      ],
      "source": [
        "# Question 1: Discretization\n",
        "# Given a dataset of temperatures (in Fahrenheit) recorded over a week,\n",
        "# Discretize temperatures into assigned categories\n",
        "\n",
        "import pandas as pd\n",
        "import math\n",
        "\n",
        "temps = [72, 85, 90, 77, 65, 80, 95, 102, 60, 68, 88, 73, 78, 69, 91, -10, -5, -20]\n",
        "\n",
        "# Cold, -inf to 69\n",
        "# Warm, 70 to 85\n",
        "# Hot, 86 to 99\n",
        "# Very Hot, 100 to inf\n",
        "bins = [-float(math.inf), 69, 85, 99, float(math.inf)]\n",
        "labels = [\"Cold\", \"Warm\", \"Hot\", \"Very Hot\"]\n",
        "\n",
        "discretized_temps = pd.cut(temps, bins=bins, labels=labels)\n",
        "\n",
        "print(discretized_temps)\n",
        "\n",
        "# The output will demonstrate sorting numerical values into discrete categories"
      ]
    },
    {
      "cell_type": "code",
      "source": [
        "# Question 2: Numeric Coding of Nominal/Ordinal Attributes\n",
        "# 2A: One-Hot Encoding Using OneHotEncoder\n",
        "# Convert list into numeric codes\n",
        "\n",
        "from sklearn.preprocessing import OneHotEncoder\n",
        "\n",
        "# place data into dataframe\n",
        "car_brands = [\"Toyota\", \"Ford\", \"Honda\", \"Toyota\", \"BMW\", \"Ford\", \"Honda\"]\n",
        "car_df = pd.DataFrame(car_brands)\n",
        "\n",
        "# encode dataframe\n",
        "encoder = OneHotEncoder(sparse_output=False)\n",
        "one_hot_df = pd.DataFrame(encoder.fit_transform(car_df))\n",
        "\n",
        "print(one_hot_df)\n",
        "\n",
        "# The output encodes the brands accordingly into unique bins"
      ],
      "metadata": {
        "colab": {
          "base_uri": "https://localhost:8080/"
        },
        "id": "NhUbEeOOpGiR",
        "outputId": "094cf2d5-3861-4dad-b7f7-3237c78dcfae"
      },
      "execution_count": null,
      "outputs": [
        {
          "output_type": "stream",
          "name": "stdout",
          "text": [
            "     0    1    2    3\n",
            "0  0.0  0.0  0.0  1.0\n",
            "1  0.0  1.0  0.0  0.0\n",
            "2  0.0  0.0  1.0  0.0\n",
            "3  0.0  0.0  0.0  1.0\n",
            "4  1.0  0.0  0.0  0.0\n",
            "5  0.0  1.0  0.0  0.0\n",
            "6  0.0  0.0  1.0  0.0\n"
          ]
        }
      ]
    },
    {
      "cell_type": "code",
      "source": [
        "# 2B: Ordinal Encding Using OrdinalEncoder\n",
        "# Convert brand and size into numeric values\n",
        "\n",
        "from sklearn.preprocessing import OrdinalEncoder\n",
        "\n",
        "# place data into dataframe\n",
        "car_info = {\n",
        "    'Brand': [\"Toyota\", \"Ford\", \"Honda\", \"Toyota\", \"BMW\", \"Ford\", \"Honda\"],\n",
        "    'Size': [\"M\", \"L\", \"S\", \"XL\", \"M\", \"S\", \"L\"]\n",
        "}\n",
        "car_df = pd.DataFrame(car_info)\n",
        "categories = car_df.select_dtypes(include=['object']).columns.tolist()\n",
        "\n",
        "# encode dataframe\n",
        "encoder = OrdinalEncoder()\n",
        "ordinal_encoded = encoder.fit_transform(car_df[categories])\n",
        "ordinal_df = pd.DataFrame(ordinal_encoded, columns=encoder.get_feature_names_out(categories))\n",
        "\n",
        "print(ordinal_df)\n",
        "\n",
        "# The output demonstrates encoding more than one category into numeric values\n",
        "# OrdinalEncoder assigns numeric values to each category so that matching values have the same code"
      ],
      "metadata": {
        "colab": {
          "base_uri": "https://localhost:8080/"
        },
        "id": "xhQilg0OrqdL",
        "outputId": "5055dc08-a561-4d53-faaa-a9b344b37c99"
      },
      "execution_count": null,
      "outputs": [
        {
          "output_type": "stream",
          "name": "stdout",
          "text": [
            "   Brand  Size\n",
            "0    3.0   1.0\n",
            "1    1.0   0.0\n",
            "2    2.0   2.0\n",
            "3    3.0   3.0\n",
            "4    0.0   1.0\n",
            "5    1.0   2.0\n",
            "6    2.0   0.0\n"
          ]
        }
      ]
    },
    {
      "cell_type": "code",
      "source": [
        "# 2C: Numeric Coding Using pandas' Factorize Function\n",
        "# Encode car brands into numeric codes via pd.factorize()\n",
        "# Print both the numeric codes and the uniquely identified categories\n",
        "\n",
        "# factorize data\n",
        "categories, codes = pd.factorize([\"Toyota\", \"Ford\", \"Honda\", \"Toyota\", \"BMW\", \"Ford\", \"Honda\"])\n",
        "\n",
        "print(\"Numeric Codes: \", categories)\n",
        "print(\"Unique Categories: \", codes)\n",
        "\n",
        "# The output displays which categories were obtained\n",
        "# The categorical index is used for the numerical code representation of the data\n",
        "# Factorize returns a 1D array, where the numerical code is determined by order of reading\n",
        "# Other encoding methods use a different approach to assign codes"
      ],
      "metadata": {
        "colab": {
          "base_uri": "https://localhost:8080/"
        },
        "id": "9G1lDIlEuJOb",
        "outputId": "4be8a5d1-2da4-49d4-e1cd-2dec67ccdf54"
      },
      "execution_count": null,
      "outputs": [
        {
          "output_type": "stream",
          "name": "stdout",
          "text": [
            "Numeric Codes:  [0 1 2 0 3 1 2]\n",
            "Unique Categories:  ['Toyota' 'Ford' 'Honda' 'BMW']\n"
          ]
        },
        {
          "output_type": "stream",
          "name": "stderr",
          "text": [
            "<ipython-input-6-52f348fe3308>:6: FutureWarning: factorize with argument that is not not a Series, Index, ExtensionArray, or np.ndarray is deprecated and will raise in a future version.\n",
            "  categories, codes = pd.factorize([\"Toyota\", \"Ford\", \"Honda\", \"Toyota\", \"BMW\", \"Ford\", \"Honda\"])\n"
          ]
        }
      ]
    },
    {
      "cell_type": "code",
      "source": [
        "# 2D: One-Hot Encding Using pandas' get_dummies Function\n",
        "# One-hot encode the data using pd.get_dummies()\n",
        "\n",
        "# place data into dataframe\n",
        "car_brands = [\"Toyota\", \"Ford\", \"Honda\", \"Toyota\", \"BMW\", \"Ford\", \"Honda\"]\n",
        "car_df = pd.DataFrame(car_brands)\n",
        "\n",
        "print(pd.get_dummies(car_df))\n",
        "\n",
        "# The output shows the data sorted into the table\n",
        "# One-hot ordinal encoding \"prioritizes\" data codes by alphabetical order\n",
        "# This can be helpful in certain circumstances however a hindrance given large sets of data with many categories"
      ],
      "metadata": {
        "colab": {
          "base_uri": "https://localhost:8080/"
        },
        "id": "cYRotfg8xkk0",
        "outputId": "d6406fe7-1f01-4cdc-dc96-d625db66fc82"
      },
      "execution_count": null,
      "outputs": [
        {
          "output_type": "stream",
          "name": "stdout",
          "text": [
            "   0_BMW  0_Ford  0_Honda  0_Toyota\n",
            "0  False   False    False      True\n",
            "1  False    True    False     False\n",
            "2  False   False     True     False\n",
            "3  False   False    False      True\n",
            "4   True   False    False     False\n",
            "5  False    True    False     False\n",
            "6  False   False     True     False\n"
          ]
        }
      ]
    },
    {
      "cell_type": "code",
      "source": [
        "# Question 3: Data Preprocessing and Cleansing\n",
        "# Take the given dataset with missing values, errors, etc.\n",
        "# Clean and preprocess the dataset by addressing issues\n",
        "\n",
        "import numpy as np\n",
        "\n",
        "# create and print dataset with all issues included\n",
        "dataset = {\n",
        "    'CustomerID' : [101, 102, 103, 104, 105, 106],\n",
        "    'Age' : [25, np.nan, 31, -22, 28, 35],\n",
        "    'Income' : [50000, 62000, np.nan, 45000, 78000, 88000],\n",
        "    'Gender' : [\"Male\", \"Female\", \"Male\", \"Unknown\", \"Female\", \"F\"],\n",
        "    'JoinedDate' : [\"2022-01-15\", \"2022/01/20\", \"15-01-2022\", \"2022-01-22\", np.nan, \"2022-01-25\"]\n",
        "}\n",
        "messy_df = pd.DataFrame(dataset)\n",
        "print(messy_df)\n",
        "\n",
        "# assign date format to single matching format, replace NaT\n",
        "messy_df['JoinedDate'] = pd.to_datetime(messy_df.JoinedDate, format='mixed')\n",
        "messy_df.replace({pd.to_datetime('NaT'): messy_df['JoinedDate'].median()}, inplace=True)\n",
        "\n",
        "# replace numerical NaN values with average/mean of categories\n",
        "messy_df['Age'] = messy_df['Age'].abs()\n",
        "messy_df['Age'].fillna(messy_df['Age'].mean(), inplace=True)\n",
        "messy_df['Income'].fillna(messy_df['Income'].mean(), inplace=True)\n",
        "messy_df.replace({'F': 'Female'}, inplace=True)\n",
        "messy_df['Gender'].replace({'Unknown': 'Female'}, inplace=True)\n",
        "\n",
        "print(messy_df)\n",
        "\n",
        "# The resulting dataset has replaced unknown/NaN values with the mean or median of its category"
      ],
      "metadata": {
        "colab": {
          "base_uri": "https://localhost:8080/"
        },
        "id": "lW2pw_zoy8tE",
        "outputId": "c72d4a37-fdd1-4851-b6fe-d6a111925cf3"
      },
      "execution_count": null,
      "outputs": [
        {
          "output_type": "stream",
          "name": "stdout",
          "text": [
            "   CustomerID   Age   Income   Gender  JoinedDate\n",
            "0         101  25.0  50000.0     Male  2022-01-15\n",
            "1         102   NaN  62000.0   Female  2022/01/20\n",
            "2         103  31.0      NaN     Male  15-01-2022\n",
            "3         104 -22.0  45000.0  Unknown  2022-01-22\n",
            "4         105  28.0  78000.0   Female         NaN\n",
            "5         106  35.0  88000.0        F  2022-01-25\n",
            "   CustomerID   Age   Income  Gender JoinedDate\n",
            "0         101  25.0  50000.0    Male 2022-01-15\n",
            "1         102  28.2  62000.0  Female 2022-01-20\n",
            "2         103  31.0  64600.0    Male 2022-01-15\n",
            "3         104  22.0  45000.0  Female 2022-01-22\n",
            "4         105  28.0  78000.0  Female 2022-01-20\n",
            "5         106  35.0  88000.0  Female 2022-01-25\n"
          ]
        }
      ]
    },
    {
      "cell_type": "code",
      "source": [
        "# Question 4: Feature Selection\n",
        "# 4A: Recursive Feature Elimination\n",
        "# Use RFE with linear regression to select the top 3 features to predict median house value\n",
        "\n",
        "from sklearn.datasets import fetch_california_housing\n",
        "from sklearn.feature_selection import RFE\n",
        "from sklearn.linear_model import LinearRegression\n",
        "\n",
        "housing = fetch_california_housing()\n",
        "x = housing.data\n",
        "y = housing.target\n",
        "\n",
        "estimate = LinearRegression()\n",
        "select = RFE(estimate, n_features_to_select=3, step=15)\n",
        "select = select.fit(x, y)\n",
        "x_select = select.transform(x)\n",
        "features = select.support_\n",
        "ranking = select.ranking_\n",
        "feature_names = [housing.feature_names[i] for i, bool_val in enumerate(features) if bool_val]\n",
        "\n",
        "print(\"Selected features:\", feature_names)\n",
        "\n",
        "# RFE removes least important features to optimize model performance until n features remain\n",
        "# This is helpful for dimensionality reduction with large quantities of data\n",
        "# Median income obviously effects the cost of a house\n",
        "# The more bedrooms in a house, the more influence on the house\n",
        "# Longitude determines where in California the house is, most likely in reference to near-ness to the coast"
      ],
      "metadata": {
        "colab": {
          "base_uri": "https://localhost:8080/"
        },
        "id": "qGkQ7NpV9PLP",
        "outputId": "f24dfcd5-3ba1-4e0f-8053-8b66090b86b2"
      },
      "execution_count": null,
      "outputs": [
        {
          "output_type": "stream",
          "name": "stdout",
          "text": [
            "Selected features: ['MedInc', 'AveBedrms', 'Longitude']\n"
          ]
        }
      ]
    },
    {
      "cell_type": "code",
      "source": [
        "# 4B: Feature Importance From Tree-Based Models\n",
        "# Use Random Forest to determine top 3 features for prediction\n",
        "\n",
        "from sklearn.ensemble import RandomForestRegressor\n",
        "from sklearn.feature_selection import RFECV\n",
        "\n",
        "housing = fetch_california_housing()\n",
        "x = housing.data\n",
        "y = housing.target\n",
        "\n",
        "estimate = RandomForestRegressor(random_state=0)\n",
        "select = RFE(estimate, n_features_to_select=3, step=15)\n",
        "select = select.fit(x, y)\n",
        "x_select = select.transform(x)\n",
        "features = select.support_\n",
        "ranking = select.ranking_\n",
        "feature_names = [housing.feature_names[i] for i, bool_val in enumerate(features) if bool_val]\n",
        "\n",
        "print(\"Selected features:\", feature_names)\n",
        "\n",
        "# Median income effects the cost of a house\n",
        "# The average occupation feeds into the cost/affordability of a house\n",
        "# Latitude will also contribute to housing location"
      ],
      "metadata": {
        "colab": {
          "base_uri": "https://localhost:8080/"
        },
        "id": "WugARQfODpc3",
        "outputId": "5c61c4b0-7eb7-4ce7-82f0-0545b811ac61"
      },
      "execution_count": null,
      "outputs": [
        {
          "output_type": "stream",
          "name": "stdout",
          "text": [
            "Selected features: ['MedInc', 'AveOccup', 'Latitude']\n"
          ]
        }
      ]
    },
    {
      "cell_type": "code",
      "source": [
        "# 4C: L1-Based Feature Selection (Lasso Regularization)\n",
        "# Use Lasso Regularization to perform feature selection by shrinking coefficients\n",
        "\n",
        "from sklearn.linear_model import Lasso\n",
        "\n",
        "housing = fetch_california_housing()\n",
        "x = housing.data\n",
        "y = housing.target\n",
        "\n",
        "estimate = Lasso()\n",
        "select = RFE(estimate, n_features_to_select=3, step=15)\n",
        "select = select.fit(x, y)\n",
        "x_select = select.transform(x)\n",
        "features = select.support_\n",
        "ranking = select.ranking_\n",
        "feature_names = [housing.feature_names[i] for i, bool_val in enumerate(features) if bool_val]\n",
        "\n",
        "print(\"Selected features:\", feature_names)\n",
        "\n",
        "# Median income effects the cost of a house\n",
        "# The age of the house determines its risk and thus influences cost\n",
        "# The population of an area contributes to housing prices"
      ],
      "metadata": {
        "colab": {
          "base_uri": "https://localhost:8080/"
        },
        "id": "BGR-7RQLHour",
        "outputId": "a3793938-5108-4da0-805a-3fee4aac2c2c"
      },
      "execution_count": null,
      "outputs": [
        {
          "output_type": "stream",
          "name": "stdout",
          "text": [
            "Selected features: ['MedInc', 'HouseAge', 'Population']\n"
          ]
        }
      ]
    },
    {
      "cell_type": "code",
      "source": [
        "# 4D: Mutual information Feature Selection\n",
        "# Use Mutual Information Feature Selection to identify the top 3 features\n",
        "# Determines highest dependency on target variable\n",
        "\n",
        "from sklearn.feature_selection import SelectKBest, mutual_info_regression\n",
        "\n",
        "housing = fetch_california_housing()\n",
        "x = housing.data\n",
        "y = housing.target\n",
        "\n",
        "select = SelectKBest(score_func=mutual_info_regression, k=3)\n",
        "select = select.fit(x,y)\n",
        "x_select = select.transform(x)\n",
        "features = select.get_support()\n",
        "feature_names = [housing.feature_names[i] for i, bool_val in enumerate(features) if bool_val]\n",
        "\n",
        "print(\"Selected features:\", feature_names)\n",
        "\n",
        "# This method evaluates features off of the mutual information scored with the target\n",
        "# Dependency of variables is key to this approach"
      ],
      "metadata": {
        "colab": {
          "base_uri": "https://localhost:8080/"
        },
        "id": "JUBi-74VIc7S",
        "outputId": "708d2a4c-1e60-46d0-c173-e23acb6d6b4f"
      },
      "execution_count": null,
      "outputs": [
        {
          "output_type": "stream",
          "name": "stdout",
          "text": [
            "Selected features: ['MedInc', 'Latitude', 'Longitude']\n"
          ]
        }
      ]
    },
    {
      "cell_type": "code",
      "source": [
        "# 4E: Sequential Feature Selection\n",
        "# Use Sequential Feature Selection to identify the top 3 features\n",
        "\n",
        "from sklearn.feature_selection import SequentialFeatureSelector\n",
        "\n",
        "housing = fetch_california_housing()\n",
        "x = housing.data\n",
        "y = housing.target\n",
        "\n",
        "estimate = LinearRegression()\n",
        "select = SequentialFeatureSelector(estimate, n_features_to_select=3)\n",
        "select = select.fit(x, y)\n",
        "x_select = select.transform(x)\n",
        "features = select.support_\n",
        "feature_names = [housing.feature_names[i] for i, bool_val in enumerate(features) if bool_val]\n",
        "\n",
        "print(\"Selected features:\", feature_names)\n",
        "\n",
        "# This approach can either work with forward or backward selection on features\n",
        "# It is very helpful when focusing on the performance of the model"
      ],
      "metadata": {
        "colab": {
          "base_uri": "https://localhost:8080/"
        },
        "id": "LPyWzOPVKDOK",
        "outputId": "6e29d55f-1d8b-417f-927b-5dcebc26870a"
      },
      "execution_count": null,
      "outputs": [
        {
          "output_type": "stream",
          "name": "stdout",
          "text": [
            "Selected features: ['MedInc', 'HouseAge', 'AveRooms']\n"
          ]
        }
      ]
    },
    {
      "cell_type": "code",
      "source": [
        "# Question 5: Data Transformation\n",
        "# Apply a square root transformation to reduce skewness of dataset\n",
        "\n",
        "import matplotlib.pyplot as plt\n",
        "\n",
        "dataset = {\n",
        "    'HouseID': [1, 2, 3, 4, 5, 6, 7],\n",
        "    'LotSize': [400, 1600, 2500, 3600, 4900, 6400, 8100]\n",
        "}\n",
        "\n",
        "df = pd.DataFrame(dataset)\n",
        "df2 = pd.DataFrame(dataset)\n",
        "df2['LotSize'] = np.sqrt(df2['LotSize'])\n",
        "\n",
        "fig, axs = plt.subplots(nrows=1, ncols=2)\n",
        "\n",
        "axs[0].plot(df['HouseID'], df['LotSize'])\n",
        "axs[0].set_title('Original')\n",
        "axs[1].plot(df2['HouseID'], df2['LotSize'])\n",
        "axs[1].set_title('Transformed')\n",
        "\n",
        "# The square root was applied to normalize the data and make it more manageable\n",
        "# The transformation inverted the curve which helps give a more accurate analysis of the relationship and dependencies"
      ],
      "metadata": {
        "colab": {
          "base_uri": "https://localhost:8080/",
          "height": 470
        },
        "id": "e69XMk3vLfcL",
        "outputId": "846ede3a-d85e-4e24-89de-375ba1b77beb"
      },
      "execution_count": null,
      "outputs": [
        {
          "output_type": "execute_result",
          "data": {
            "text/plain": [
              "Text(0.5, 1.0, 'Transformed')"
            ]
          },
          "metadata": {},
          "execution_count": 44
        },
        {
          "output_type": "display_data",
          "data": {
            "text/plain": [
              "<Figure size 640x480 with 2 Axes>"
            ],
            "image/png": "[encoded data removed]"
          },
          "metadata": {}
        }
      ]
    }
  ]
}